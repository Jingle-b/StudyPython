{
 "cells": [
  {
   "cell_type": "markdown",
   "metadata": {},
   "source": [
    "## 연산자 학습 \n",
    "1. 숫자 연산"
   ]
  },
  {
   "cell_type": "code",
   "execution_count": 12,
   "metadata": {},
   "outputs": [
    {
     "name": "stdout",
     "output_type": "stream",
     "text": [
      "15\n",
      "7\n",
      "44\n",
      "2.75\n",
      "2\n",
      "3\n",
      "14641\n"
     ]
    }
   ],
   "source": [
    "#연산자\n",
    "\n",
    "a = 11; b = 4\n",
    "\n",
    "print(a + b)\n",
    "print(a - b)\n",
    "print(a * b)\n",
    "print(a / b)  #단, 나눗셈을 계산할 때, 어떤 값을 원하는지 명확히 해야하다.\n",
    "\n",
    "#나눗셈의 결과를 정수만으로 나누고 나머지는 버리는 것으로 구하려 할 때\n",
    "print(a//b)\n",
    "print(a % b)  #나눗셈의 나머지를 구함 (boolean 사용할 때 많이 사용함)\n",
    "\n",
    "print(a**b) #11의 4승"
   ]
  },
  {
   "cell_type": "code",
   "execution_count": 18,
   "metadata": {},
   "outputs": [
    {
     "ename": "ZeroDivisionError",
     "evalue": "division by zero",
     "output_type": "error",
     "traceback": [
      "\u001b[1;31m---------------------------------------------------------------------------\u001b[0m",
      "\u001b[1;31mZeroDivisionError\u001b[0m                         Traceback (most recent call last)",
      "\u001b[1;32mc:\\Repository\\StudyPython_Kasan\\Day 1\\연산자.ipynb Cell 3'\u001b[0m in \u001b[0;36m<cell line: 3>\u001b[1;34m()\u001b[0m\n\u001b[0;32m      <a href='vscode-notebook-cell:/c%3A/Repository/StudyPython_Kasan/Day%201/%EC%97%B0%EC%82%B0%EC%9E%90.ipynb#ch0000005?line=0'>1</a>\u001b[0m \u001b[39m#나누기에서 주의할 요소! [Zero division Error] \u001b[39;00m\n\u001b[0;32m      <a href='vscode-notebook-cell:/c%3A/Repository/StudyPython_Kasan/Day%201/%EC%97%B0%EC%82%B0%EC%9E%90.ipynb#ch0000005?line=1'>2</a>\u001b[0m c \u001b[39m=\u001b[39m \u001b[39m0\u001b[39m\n\u001b[1;32m----> <a href='vscode-notebook-cell:/c%3A/Repository/StudyPython_Kasan/Day%201/%EC%97%B0%EC%82%B0%EC%9E%90.ipynb#ch0000005?line=2'>3</a>\u001b[0m \u001b[39mprint\u001b[39m(a\u001b[39m/\u001b[39;49mc)\n",
      "\u001b[1;31mZeroDivisionError\u001b[0m: division by zero"
     ]
    }
   ],
   "source": [
    "#경고! 예외발생!\n",
    "#나누기에서 주의할 요소! [Zero division Error] \n",
    "c = 0\n",
    "print(a/c)  #무한대를 컴퓨팅으로 나타낼 수 없기 때문\n",
    "\n",
    "#화면상으로 나타나는 붉은 줄 표시 : 오타같은 이유로 코드 상에서 오류\n",
    "#실행 후 결과창에서 오류 표시 : 예외적 오류 표현 (처리 필요!!)"
   ]
  },
  {
   "cell_type": "markdown",
   "metadata": {},
   "source": [
    "2. 문자열 연산"
   ]
  },
  {
   "cell_type": "code",
   "execution_count": 8,
   "metadata": {},
   "outputs": [
    {
     "name": "stdout",
     "output_type": "stream",
     "text": [
      "Hello, World!\n",
      "World!World!\n"
     ]
    },
    {
     "data": {
      "text/plain": [
       "'print(first-second); print(first/second) ; print(first/2)'"
      ]
     },
     "execution_count": 8,
     "metadata": {},
     "output_type": "execute_result"
    }
   ],
   "source": [
    "#문자열 연산\n",
    "first = 'Hello,'\n",
    "second = 'World!'\n",
    " \n",
    "print(first+' '+second)  # + 표시는 앞 문자열 변수와 뒤의 문자열 변수를 더해준다.\n",
    "\"\"\"print(second + 5)\"\"\"   #문자열과 숫자는 더할수없음\n",
    "print(second*2)   #곱하기는 가능 : 문자열을 여러번 하게끔 하는 연산자.\n",
    "\"\"\"print(first-second); print(first/second) ; print(first/2)\"\"\"\n",
    "\n",
    "#문자열 연산은 더하기, 곱하기만 있으며, 더하기의 경우 문자열은 문자열끼리만 더하기가 가능하다. 또한, 문자열과 문자열은 곱할 수 없다. "
   ]
  },
  {
   "cell_type": "code",
   "execution_count": 16,
   "metadata": {},
   "outputs": [
    {
     "name": "stdout",
     "output_type": "stream",
     "text": [
      "H\n",
      "6\n"
     ]
    },
    {
     "ename": "IndexError",
     "evalue": "string index out of range",
     "output_type": "error",
     "traceback": [
      "\u001b[1;31m---------------------------------------------------------------------------\u001b[0m",
      "\u001b[1;31mIndexError\u001b[0m                                Traceback (most recent call last)",
      "\u001b[1;32mc:\\Repository\\StudyPython_Kasan\\Day 1\\연산자.ipynb Cell 6'\u001b[0m in \u001b[0;36m<cell line: 12>\u001b[1;34m()\u001b[0m\n\u001b[0;32m      <a href='vscode-notebook-cell:/c%3A/Repository/StudyPython_Kasan/Day%201/%EC%97%B0%EC%82%B0%EC%9E%90.ipynb#ch0000005?line=2'>3</a>\u001b[0m \u001b[39m\"\"\"\u001b[39;00m\n\u001b[0;32m      <a href='vscode-notebook-cell:/c%3A/Repository/StudyPython_Kasan/Day%201/%EC%97%B0%EC%82%B0%EC%9E%90.ipynb#ch0000005?line=3'>4</a>\u001b[0m \u001b[39mprint(first[1])\u001b[39;00m\n\u001b[0;32m      <a href='vscode-notebook-cell:/c%3A/Repository/StudyPython_Kasan/Day%201/%EC%97%B0%EC%82%B0%EC%9E%90.ipynb#ch0000005?line=4'>5</a>\u001b[0m \u001b[39mprint(first[2])\u001b[39;00m\n\u001b[1;32m   (...)\u001b[0m\n\u001b[0;32m      <a href='vscode-notebook-cell:/c%3A/Repository/StudyPython_Kasan/Day%201/%EC%97%B0%EC%82%B0%EC%9E%90.ipynb#ch0000005?line=7'>8</a>\u001b[0m \u001b[39mprint(first[5])  #전체 길이 - 1 =  마지막 인덱스\u001b[39;00m\n\u001b[0;32m      <a href='vscode-notebook-cell:/c%3A/Repository/StudyPython_Kasan/Day%201/%EC%97%B0%EC%82%B0%EC%9E%90.ipynb#ch0000005?line=8'>9</a>\u001b[0m \u001b[39m\"\"\"\u001b[39;00m\n\u001b[0;32m     <a href='vscode-notebook-cell:/c%3A/Repository/StudyPython_Kasan/Day%201/%EC%97%B0%EC%82%B0%EC%9E%90.ipynb#ch0000005?line=9'>10</a>\u001b[0m \u001b[39mprint\u001b[39m(\u001b[39mlen\u001b[39m(first)) \u001b[39m#문자열의 길이\u001b[39;00m\n\u001b[1;32m---> <a href='vscode-notebook-cell:/c%3A/Repository/StudyPython_Kasan/Day%201/%EC%97%B0%EC%82%B0%EC%9E%90.ipynb#ch0000005?line=11'>12</a>\u001b[0m \u001b[39mprint\u001b[39m(first[\u001b[39m6\u001b[39;49m])\n",
      "\u001b[1;31mIndexError\u001b[0m: string index out of range"
     ]
    }
   ],
   "source": [
    "##문자열 = 배열이라서 가능한 행동\n",
    "print(first[0])\n",
    "print(first[1])\n",
    "print(first[2])\n",
    "print(first[3])\n",
    "print(first[4])\n",
    "print(first[5])  #전체 길이 - 1 =  마지막 인덱스 \n",
    "print(len(first)) #문자열의 길이\n",
    "\n",
    "\"\"\"print(first[6])\"\"\" #[IndexError] 예외 발생 : 많이 발생하는 예외. 코딩 시 조심해야할 것"
   ]
  },
  {
   "cell_type": "code",
   "execution_count": null,
   "metadata": {},
   "outputs": [
    {
     "name": "stdout",
     "output_type": "stream",
     "text": [
      "H\n",
      ",\n",
      "o\n",
      "l\n",
      "l\n",
      "e\n"
     ]
    }
   ],
   "source": [
    "print(first[0])\n",
    "print(first[-1])   #역순으로 인덱스 고려\n",
    "print(first[-2])\n",
    "print(first[-3])\n",
    "print(first[-4])\n",
    "print(first[-5])"
   ]
  },
  {
   "cell_type": "code",
   "execution_count": 42,
   "metadata": {},
   "outputs": [
    {
     "name": "stdout",
     "output_type": "stream",
     "text": [
      "['2022-05-23', '17:33:45']\n",
      "2022-05-23\n",
      "17:33:45\n",
      "2022\n",
      "05\n",
      "23\n",
      "17\n",
      "33\n",
      "45\n",
      "45\n",
      "33\n"
     ]
    }
   ],
   "source": [
    "#현재 일시 [date formatting]\n",
    "current = '2022-05-23 17:33:45'\n",
    "curr_date = current.split(' ')  #공백으로 split\n",
    "print(curr_date)  #문자열 2개의 1차원 list 생성 \n",
    "print(curr_date[0])  #날짜\n",
    "print(curr_date[1])  #시간\n",
    "\n",
    "#index slice로 년,월,일,시,분,초 표기 \n",
    "print(current[0:4])  #첫번째 index에서는 처음부터 시작인것이므로, 생략 가능 \n",
    "print(current[5:7])  \n",
    "print(current[8:10])  \n",
    "print(current[11:13])\n",
    "print(current[14:16])\n",
    "print(current[17:19])  #마지막 index는 마지막이므로, 생략 가능(하지만 초반에는 생략하지 않고 기입하기)\n",
    "\n",
    "#index slice로 초,분 표기\n",
    "print(current[-2:])\n",
    "print(current[-5:-3])"
   ]
  }
 ],
 "metadata": {
  "interpreter": {
   "hash": "26de051ba29f2982a8de78e945f0abaf191376122a1563185a90213a26c5da77"
  },
  "kernelspec": {
   "display_name": "Python 3.10.4 64-bit",
   "language": "python",
   "name": "python3"
  },
  "language_info": {
   "codemirror_mode": {
    "name": "ipython",
    "version": 3
   },
   "file_extension": ".py",
   "mimetype": "text/x-python",
   "name": "python",
   "nbconvert_exporter": "python",
   "pygments_lexer": "ipython3",
   "version": "3.10.4"
  },
  "orig_nbformat": 4
 },
 "nbformat": 4,
 "nbformat_minor": 2
}
