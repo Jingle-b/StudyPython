{
 "cells": [
  {
   "cell_type": "markdown",
   "metadata": {},
   "source": [
    "## 연산자 학습 \n"
   ]
  },
  {
   "cell_type": "markdown",
   "metadata": {},
   "source": [
    "1. 숫자 연산"
   ]
  },
  {
   "cell_type": "code",
   "execution_count": 12,
   "metadata": {},
   "outputs": [
    {
     "name": "stdout",
     "output_type": "stream",
     "text": [
      "15\n",
      "7\n",
      "44\n",
      "2.75\n",
      "2\n",
      "3\n",
      "14641\n"
     ]
    }
   ],
   "source": [
    "#연산자\n",
    "\n",
    "a = 11; b = 4\n",
    "\n",
    "print(a + b)\n",
    "print(a - b)\n",
    "print(a * b)\n",
    "print(a / b)  #단, 나눗셈을 계산할 때, 어떤 값을 원하는지 명확히 해야하다.\n",
    "\n",
    "#나눗셈의 결과를 정수만으로 나누고 나머지는 버리는 것으로 구하려 할 때\n",
    "print(a//b)\n",
    "print(a % b)  #나눗셈의 나머지를 구함 (boolean 사용할 때 많이 사용함)\n",
    "\n",
    "print(a**b) #11의 4승"
   ]
  },
  {
   "cell_type": "code",
   "execution_count": 18,
   "metadata": {},
   "outputs": [
    {
     "ename": "ZeroDivisionError",
     "evalue": "division by zero",
     "output_type": "error",
     "traceback": [
      "\u001b[1;31m---------------------------------------------------------------------------\u001b[0m",
      "\u001b[1;31mZeroDivisionError\u001b[0m                         Traceback (most recent call last)",
      "\u001b[1;32mc:\\Repository\\StudyPython_Kasan\\Day 1\\연산자.ipynb Cell 3'\u001b[0m in \u001b[0;36m<cell line: 3>\u001b[1;34m()\u001b[0m\n\u001b[0;32m      <a href='vscode-notebook-cell:/c%3A/Repository/StudyPython_Kasan/Day%201/%EC%97%B0%EC%82%B0%EC%9E%90.ipynb#ch0000005?line=0'>1</a>\u001b[0m \u001b[39m#나누기에서 주의할 요소! [Zero division Error] \u001b[39;00m\n\u001b[0;32m      <a href='vscode-notebook-cell:/c%3A/Repository/StudyPython_Kasan/Day%201/%EC%97%B0%EC%82%B0%EC%9E%90.ipynb#ch0000005?line=1'>2</a>\u001b[0m c \u001b[39m=\u001b[39m \u001b[39m0\u001b[39m\n\u001b[1;32m----> <a href='vscode-notebook-cell:/c%3A/Repository/StudyPython_Kasan/Day%201/%EC%97%B0%EC%82%B0%EC%9E%90.ipynb#ch0000005?line=2'>3</a>\u001b[0m \u001b[39mprint\u001b[39m(a\u001b[39m/\u001b[39;49mc)\n",
      "\u001b[1;31mZeroDivisionError\u001b[0m: division by zero"
     ]
    }
   ],
   "source": [
    "#경고! 예외발생!\n",
    "#나누기에서 주의할 요소! [Zero division Error] \n",
    "c = 0\n",
    "print(a/c)  #무한대를 컴퓨팅으로 나타낼 수 없기 때문\n",
    "\n",
    "#화면상으로 나타나는 붉은 줄 표시 : 오타같은 이유로 코드 상에서 오류\n",
    "#실행 후 결과창에서 오류 표시 : 예외적 오류 표현 (처리 필요!!)"
   ]
  },
  {
   "cell_type": "markdown",
   "metadata": {},
   "source": [
    "2. 문자열 연산"
   ]
  },
  {
   "cell_type": "code",
   "execution_count": 8,
   "metadata": {},
   "outputs": [
    {
     "name": "stdout",
     "output_type": "stream",
     "text": [
      "Hello, World!\n",
      "World!World!\n"
     ]
    },
    {
     "data": {
      "text/plain": [
       "'print(first-second); print(first/second) ; print(first/2)'"
      ]
     },
     "execution_count": 8,
     "metadata": {},
     "output_type": "execute_result"
    }
   ],
   "source": [
    "#문자열 연산\n",
    "first = 'Hello,'\n",
    "second = 'World!'\n",
    " \n",
    "print(first+' '+second)  # + 표시는 앞 문자열 변수와 뒤의 문자열 변수를 더해준다.\n",
    "\"\"\"print(second + 5)\"\"\"   #문자열과 숫자는 더할수없음\n",
    "print(second*2)   #곱하기는 가능 : 문자열을 여러번 하게끔 하는 연산자.\n",
    "\"\"\"print(first-second); print(first/second) ; print(first/2)\"\"\"\n",
    "\n",
    "#문자열 연산은 더하기, 곱하기만 있으며, 더하기의 경우 문자열은 문자열끼리만 더하기가 가능하다. 또한, 문자열과 문자열은 곱할 수 없다. "
   ]
  },
  {
   "cell_type": "code",
   "execution_count": 16,
   "metadata": {},
   "outputs": [
    {
     "name": "stdout",
     "output_type": "stream",
     "text": [
      "H\n",
      "6\n"
     ]
    },
    {
     "ename": "IndexError",
     "evalue": "string index out of range",
     "output_type": "error",
     "traceback": [
      "\u001b[1;31m---------------------------------------------------------------------------\u001b[0m",
      "\u001b[1;31mIndexError\u001b[0m                                Traceback (most recent call last)",
      "\u001b[1;32mc:\\Repository\\StudyPython_Kasan\\Day 1\\연산자.ipynb Cell 6'\u001b[0m in \u001b[0;36m<cell line: 12>\u001b[1;34m()\u001b[0m\n\u001b[0;32m      <a href='vscode-notebook-cell:/c%3A/Repository/StudyPython_Kasan/Day%201/%EC%97%B0%EC%82%B0%EC%9E%90.ipynb#ch0000005?line=2'>3</a>\u001b[0m \u001b[39m\"\"\"\u001b[39;00m\n\u001b[0;32m      <a href='vscode-notebook-cell:/c%3A/Repository/StudyPython_Kasan/Day%201/%EC%97%B0%EC%82%B0%EC%9E%90.ipynb#ch0000005?line=3'>4</a>\u001b[0m \u001b[39mprint(first[1])\u001b[39;00m\n\u001b[0;32m      <a href='vscode-notebook-cell:/c%3A/Repository/StudyPython_Kasan/Day%201/%EC%97%B0%EC%82%B0%EC%9E%90.ipynb#ch0000005?line=4'>5</a>\u001b[0m \u001b[39mprint(first[2])\u001b[39;00m\n\u001b[1;32m   (...)\u001b[0m\n\u001b[0;32m      <a href='vscode-notebook-cell:/c%3A/Repository/StudyPython_Kasan/Day%201/%EC%97%B0%EC%82%B0%EC%9E%90.ipynb#ch0000005?line=7'>8</a>\u001b[0m \u001b[39mprint(first[5])  #전체 길이 - 1 =  마지막 인덱스\u001b[39;00m\n\u001b[0;32m      <a href='vscode-notebook-cell:/c%3A/Repository/StudyPython_Kasan/Day%201/%EC%97%B0%EC%82%B0%EC%9E%90.ipynb#ch0000005?line=8'>9</a>\u001b[0m \u001b[39m\"\"\"\u001b[39;00m\n\u001b[0;32m     <a href='vscode-notebook-cell:/c%3A/Repository/StudyPython_Kasan/Day%201/%EC%97%B0%EC%82%B0%EC%9E%90.ipynb#ch0000005?line=9'>10</a>\u001b[0m \u001b[39mprint\u001b[39m(\u001b[39mlen\u001b[39m(first)) \u001b[39m#문자열의 길이\u001b[39;00m\n\u001b[1;32m---> <a href='vscode-notebook-cell:/c%3A/Repository/StudyPython_Kasan/Day%201/%EC%97%B0%EC%82%B0%EC%9E%90.ipynb#ch0000005?line=11'>12</a>\u001b[0m \u001b[39mprint\u001b[39m(first[\u001b[39m6\u001b[39;49m])\n",
      "\u001b[1;31mIndexError\u001b[0m: string index out of range"
     ]
    }
   ],
   "source": [
    "##문자열 = 배열이라서 가능한 행동\n",
    "print(first[0])\n",
    "print(first[1])\n",
    "print(first[2])\n",
    "print(first[3])\n",
    "print(first[4])\n",
    "print(first[5])  #전체 길이 - 1 =  마지막 인덱스 \n",
    "print(len(first)) #문자열의 길이\n",
    "\n",
    "\"\"\"print(first[6])\"\"\" #[IndexError] 예외 발생 : 많이 발생하는 예외. 코딩 시 조심해야할 것"
   ]
  },
  {
   "cell_type": "code",
   "execution_count": null,
   "metadata": {},
   "outputs": [
    {
     "name": "stdout",
     "output_type": "stream",
     "text": [
      "H\n",
      ",\n",
      "o\n",
      "l\n",
      "l\n",
      "e\n"
     ]
    }
   ],
   "source": [
    "print(first[0])\n",
    "print(first[-1])   #역순으로 인덱스 고려\n",
    "print(first[-2])\n",
    "print(first[-3])\n",
    "print(first[-4])\n",
    "print(first[-5])"
   ]
  },
  {
   "cell_type": "code",
   "execution_count": 42,
   "metadata": {},
   "outputs": [
    {
     "name": "stdout",
     "output_type": "stream",
     "text": [
      "['2022-05-23', '17:33:45']\n",
      "2022-05-23\n",
      "17:33:45\n",
      "2022\n",
      "05\n",
      "23\n",
      "17\n",
      "33\n",
      "45\n",
      "45\n",
      "33\n"
     ]
    }
   ],
   "source": [
    "#현재 일시 [date formatting]\n",
    "current = '2022-05-23 17:33:45'\n",
    "curr_date = current.split(' ')  #공백으로 split\n",
    "print(curr_date)  #문자열 2개의 1차원 list 생성 \n",
    "print(curr_date[0])  #날짜\n",
    "print(curr_date[1])  #시간\n",
    "\n",
    "#index slice로 년,월,일,시,분,초 표기 \n",
    "print(current[0:4])  #첫번째 index에서는 처음부터 시작인것이므로, 생략 가능 \n",
    "print(current[5:7])  \n",
    "print(current[8:10])  \n",
    "print(current[11:13])\n",
    "print(current[14:16])\n",
    "print(current[17:19])  #마지막 index는 마지막이므로, 생략 가능(하지만 초반에는 생략하지 않고 기입하기)\n",
    "\n",
    "#index slice로 초,분 표기\n",
    "print(current[-2:])\n",
    "print(current[-5:-3])"
   ]
  },
  {
   "cell_type": "code",
   "execution_count": 5,
   "metadata": {},
   "outputs": [
    {
     "name": "stdout",
     "output_type": "stream",
     "text": [
      "[0, 1, 2, 3, 4, 5]\n",
      "0\n",
      "7\n"
     ]
    }
   ],
   "source": [
    "#일반 리스트 값의 변경\n",
    "q = [0,1,2,3,4,5]\n",
    "print(q)\n",
    "print(q[0])\n",
    "\n",
    "#인덱스로 리스트 내부 값 변경\n",
    "q[0] = 7\n",
    "print(q[0])"
   ]
  },
  {
   "cell_type": "code",
   "execution_count": 17,
   "metadata": {},
   "outputs": [
    {
     "name": "stdout",
     "output_type": "stream",
     "text": [
      "hello\n",
      "h\n",
      "['H', 1, 2, 3, 4, 5]\n",
      "Hello\n"
     ]
    }
   ],
   "source": [
    "#문자열(문자의 배열) 값 변경\n",
    "greeting = 'hello'\n",
    "print(greeting)\n",
    "print(greeting[0])  #숫자형은 대괄호로 묶이지만 문자열은 이렇게 해도 인덱스로 호출 가능\n",
    "\n",
    "#단, 완벽한 리스트 형태가 아니며, 값을 호출할 수는 있으나 값을 변경할 수는 없다. \n",
    "\"\"\"\n",
    "greeting[0] = 'H'\n",
    "print(greeting)  #Type error 발생! \n",
    "\"\"\"\n",
    "\n",
    "#숫자 리스트는 숫자 값이더라도, 리스트 내부에 문자 입력 가능 (호출 및 변경도 가능)\n",
    "q[0] = 'H'\n",
    "print(q)\n",
    "\n",
    "#리스트 slice, 리스트 concatenate\n",
    "new_greeting = 'H' + greeting[1:]\n",
    "print(new_greeting)"
   ]
  },
  {
   "cell_type": "code",
   "execution_count": 33,
   "metadata": {},
   "outputs": [
    {
     "name": "stdout",
     "output_type": "stream",
     "text": [
      "I'm happy two you\n",
      "I'm happy two you\n",
      "제 이름은 홍길동입니다. 한국에 살아요.\n"
     ]
    }
   ],
   "source": [
    "#문자열 포맷팅\n",
    "#익스케이프 문자의 사용\n",
    "\"I'm so happy for you\"\n",
    "'I\\'m so happy for you'\n",
    "\n",
    "# 기존 문자열 포멧팅\n",
    "print('I\\'m happy {0} you'.format('two'))  #원하는 부분만 변경할 수 있다.\n",
    "print('I\\'m happy {0} {1}'.format('two', 'you'))  #원하는 부분만 변경할 수 있다.\n",
    "#일반 메일에서 000 고객님.이라고 표기하는 경우처럼 사용 가능.\n",
    "#하지만, 이 방법으로 하면 컴마로 이어지는 값이 끝도없어 코드가 길어지고, 불편하며 가독성이 떨어진다. \n",
    "\n",
    "#최신 문자열 포멧팅(f)\n",
    "name = '홍길동'\n",
    "region = '한국'\n",
    "print(f'제 이름은 {name}입니다. {region}에 살아요.') #맨 앞에 f 필수로 넣어줘야한다!"
   ]
  },
  {
   "cell_type": "markdown",
   "metadata": {},
   "source": [
    "3. 문자열 포멧팅\n",
    "\n",
    "[ 'I'm so happy for you' ]\n",
    "- 이 경우, 문장에 존재하는 '가 오류의 원인이 되기 때문에, 양쪽을 쌍따옴표로 표기하면 된다. <font color = yellow>(추천)</font>\n",
    "- 혹은, 'I\\'m so happy for you'와 같이 역슬래쉬(익스케이프)를 사용하여 해결할 수 있다. "
   ]
  },
  {
   "cell_type": "code",
   "execution_count": 47,
   "metadata": {},
   "outputs": [
    {
     "name": "stdout",
     "output_type": "stream",
     "text": [
      "3.141592653589793\n",
      "3.14\n",
      "3.14\n"
     ]
    }
   ],
   "source": [
    "#숫자 포멧팅\n",
    "import math\n",
    "print(math.pi)\n",
    "print(f'{math.pi:0.2f}')  #float로 0.2(소수점 둘째자리)에서 자르겠다.  #짧은 코드\n",
    "print('{0:0.2f}'.format(math.pi))  #긴 코드"
   ]
  },
  {
   "cell_type": "code",
   "execution_count": 48,
   "metadata": {},
   "outputs": [
    {
     "name": "stdout",
     "output_type": "stream",
     "text": [
      "서울특별시 금천구 가산동\n",
      "['서울특별시', '금천구', '가산동']\n",
      "['DEST07', '2022-05-24', '10:07:17', 'DESC11', 'NONE']\n"
     ]
    }
   ],
   "source": [
    "#문자열 자르기\n",
    "orign_str = '서울특별시 금천구 가산동'\n",
    "print(orign_str)\n",
    "print(orign_str.split())\n",
    "\n",
    "mes_str = 'DEST07|2022-05-24|10:07:17|DESC11|NONE'\n",
    "print(mes_str.split('|'))"
   ]
  },
  {
   "cell_type": "code",
   "execution_count": 51,
   "metadata": {},
   "outputs": [
    {
     "name": "stdout",
     "output_type": "stream",
     "text": [
      "Ashley Sung\n"
     ]
    }
   ],
   "source": [
    "#문자열 치환\n",
    "full_name = 'Hugo MG Sung'\n",
    "rep_name = full_name.replace('Hugo MG', 'Ashley') #특정 부분을 원하는 것으로 변환\n",
    "\n",
    "print(rep_name)  "
   ]
  },
  {
   "cell_type": "code",
   "execution_count": 54,
   "metadata": {},
   "outputs": [
    {
     "name": "stdout",
     "output_type": "stream",
     "text": [
      "['Hey', ' Guys~']\n",
      "['Hey', 'Guys']\n"
     ]
    }
   ],
   "source": [
    "#문자열에서 공백 및 특수기호 제거 : 단어 추출\n",
    "test = 'Hey, Guys~' \n",
    "sp_test = test.split(',')\n",
    "print(sp_test)\n",
    "\n",
    "#sp_test : 리스트에서 배열으로 변환됨(데이터 타입 변환)\n",
    "sp_test[1] = sp_test[1].replace('~','').strip()\n",
    "print(sp_test)"
   ]
  },
  {
   "cell_type": "code",
   "execution_count": 57,
   "metadata": {},
   "outputs": [
    {
     "name": "stdout",
     "output_type": "stream",
     "text": [
      "Hello~     \n",
      "     Hello~\n",
      "Hello~\n"
     ]
    }
   ],
   "source": [
    "print('     Hello~     '.lstrip())   #왼쪽에 있는 공백 제거\n",
    "print('     Hello~     '.rstrip())   #오른쪽에 있는 공백 제거\n",
    "print('     Hello~     '.strip())   #양쪽에 있는 공백 제거\n",
    "\n",
    "#단, 글자들 사이에 존재하는 공백은 제거하지 못한다."
   ]
  },
  {
   "cell_type": "code",
   "execution_count": 61,
   "metadata": {},
   "outputs": [
    {
     "name": "stdout",
     "output_type": "stream",
     "text": [
      "0\n",
      "5\n"
     ]
    },
    {
     "ename": "ValueError",
     "evalue": "substring not found",
     "output_type": "error",
     "traceback": [
      "\u001b[1;31m---------------------------------------------------------------------------\u001b[0m",
      "\u001b[1;31mValueError\u001b[0m                                Traceback (most recent call last)",
      "\u001b[1;32mc:\\Repository\\StudyPython_Kasan\\Day 1\\연산자.ipynb Cell 19'\u001b[0m in \u001b[0;36m<cell line: 3>\u001b[1;34m()\u001b[0m\n\u001b[0;32m      <a href='vscode-notebook-cell:/c%3A/Repository/StudyPython_Kasan/Day%201/%EC%97%B0%EC%82%B0%EC%9E%90.ipynb#ch0000025?line=0'>1</a>\u001b[0m \u001b[39mprint\u001b[39m(test\u001b[39m.\u001b[39mindex(\u001b[39m'\u001b[39m\u001b[39mH\u001b[39m\u001b[39m'\u001b[39m)) \n\u001b[0;32m      <a href='vscode-notebook-cell:/c%3A/Repository/StudyPython_Kasan/Day%201/%EC%97%B0%EC%82%B0%EC%9E%90.ipynb#ch0000025?line=1'>2</a>\u001b[0m \u001b[39mprint\u001b[39m(test\u001b[39m.\u001b[39mindex(\u001b[39m'\u001b[39m\u001b[39mG\u001b[39m\u001b[39m'\u001b[39m)) \n\u001b[1;32m----> <a href='vscode-notebook-cell:/c%3A/Repository/StudyPython_Kasan/Day%201/%EC%97%B0%EC%82%B0%EC%9E%90.ipynb#ch0000025?line=2'>3</a>\u001b[0m \u001b[39mprint\u001b[39m(test\u001b[39m.\u001b[39;49mindex(\u001b[39m'\u001b[39;49m\u001b[39mh\u001b[39;49m\u001b[39m'\u001b[39;49m))\n",
      "\u001b[1;31mValueError\u001b[0m: substring not found"
     ]
    }
   ],
   "source": [
    "#index\n",
    "print(test.index('H')) \n",
    "print(test.index('G')) \n",
    "print(test.index('h'))  #[예외 발생]없는 단어를 찾으면 Value Error 발생 : 예외 처리 필요 "
   ]
  },
  {
   "cell_type": "code",
   "execution_count": 65,
   "metadata": {},
   "outputs": [
    {
     "name": "stdout",
     "output_type": "stream",
     "text": [
      "5\n",
      "-1\n"
     ]
    }
   ],
   "source": [
    "#find\n",
    "print(test.find('G'))\n",
    "print(test.find('g')) #문자열에 찾는 값이 없다 = 결과가 (-1) : 예외 발생 없이 해결 가능\n"
   ]
  },
  {
   "cell_type": "code",
   "execution_count": 67,
   "metadata": {},
   "outputs": [
    {
     "name": "stdout",
     "output_type": "stream",
     "text": [
      "2\n"
     ]
    }
   ],
   "source": [
    "#count\n",
    "print('Hello'.count('l'))"
   ]
  },
  {
   "cell_type": "code",
   "execution_count": 72,
   "metadata": {},
   "outputs": [
    {
     "name": "stdout",
     "output_type": "stream",
     "text": [
      "HUGO MG SUNG\n",
      "hugo mg sung\n"
     ]
    }
   ],
   "source": [
    "#upper, lower\n",
    "print(full_name.upper())  #모든 단어를 대문자\n",
    "print(full_name.lower())  #모든 단어를 소문자"
   ]
  },
  {
   "cell_type": "markdown",
   "metadata": {},
   "source": [
    "4. 리스트 연산자, 연산"
   ]
  },
  {
   "cell_type": "code",
   "execution_count": null,
   "metadata": {},
   "outputs": [],
   "source": [
    "# 리스트 연산\n",
    "arr = [1,2,3,4,5] # length는 \n",
    "print(len(arr))\n",
    "print(arr[4])\n",
    "\n",
    "print(arr[0] + arr[4])\n",
    "arr[2] = '3' # 문자열로 변경\n",
    "print(arr)\n",
    "print(arr[2] * arr[3]) # 문자열 + 숫자는 연산안됨, +를 *로 변경\n",
    "print(arr[-1])"
   ]
  },
  {
   "cell_type": "code",
   "execution_count": 103,
   "metadata": {},
   "outputs": [
    {
     "name": "stdout",
     "output_type": "stream",
     "text": [
      "5\n",
      "5\n",
      "6\n",
      "[1, 2, '3', 4, 5]\n",
      "3333\n",
      "5\n"
     ]
    }
   ],
   "source": [
    "# 리스트 연산\n",
    "arr = [1,2,3,4,5]\n",
    "print(len(arr))\n",
    "print(arr[4]) # 4번째 자리에 있는 값\n",
    "\n",
    "print(arr[0] + arr[4])\n",
    "arr[2] = '3' # 문자열이 됨\n",
    "print(arr)\n",
    "# print(arr[2] + arr[3])  # 문자열이랑 숫자랑 안 더해짐\n",
    "print(arr[2] * arr[3]) # 곱하기는 문자열 숫자 가능\n",
    "\n",
    "print(arr[-1])"
   ]
  },
  {
   "cell_type": "code",
   "execution_count": 92,
   "metadata": {},
   "outputs": [
    {
     "name": "stdout",
     "output_type": "stream",
     "text": [
      "[1, 2, ['Hi', 'My', 'Friends']]\n",
      "Friends\n",
      "F\n"
     ]
    }
   ],
   "source": [
    "arr2 = [1,2, ['Hi','My','Friends']]\n",
    "print(arr2)\n",
    "print(arr2[2][2]) ,#인덱스 2번의 리스트의 인덱스값 2번을 갖는 value 호출하고싶음\n",
    "print(arr2[2][2][0]) #그 value의 첫번째 단어"
   ]
  },
  {
   "cell_type": "code",
   "execution_count": null,
   "metadata": {},
   "outputs": [
    {
     "name": "stdout",
     "output_type": "stream",
     "text": [
      "[1, 2]\n",
      "[2, ['Hi', 'My', 'Friends']]\n"
     ]
    }
   ],
   "source": [
    "print(arr2[0:2])\n",
    "print(arr2[-2:])"
   ]
  },
  {
   "cell_type": "code",
   "execution_count": null,
   "metadata": {},
   "outputs": [
    {
     "name": "stdout",
     "output_type": "stream",
     "text": [
      "[1, 2, ['Hi', 'My', 'Friends']]\n",
      "[1, 2]\n"
     ]
    }
   ],
   "source": [
    "print(arr2)\n",
    "del(arr2[2])\n",
    "print(arr2)"
   ]
  },
  {
   "cell_type": "code",
   "execution_count": 93,
   "metadata": {},
   "outputs": [
    {
     "ename": "NameError",
     "evalue": "name 'arr2' is not defined",
     "output_type": "error",
     "traceback": [
      "\u001b[1;31m---------------------------------------------------------------------------\u001b[0m",
      "\u001b[1;31mNameError\u001b[0m                                 Traceback (most recent call last)",
      "\u001b[1;32mc:\\Repository\\StudyPython_Kasan\\Day 1\\연산자.ipynb Cell 27'\u001b[0m in \u001b[0;36m<cell line: 3>\u001b[1;34m()\u001b[0m\n\u001b[0;32m      <a href='vscode-notebook-cell:/c%3A/Repository/StudyPython_Kasan/Day%201/%EC%97%B0%EC%82%B0%EC%9E%90.ipynb#ch0000035?line=0'>1</a>\u001b[0m \u001b[39m#삭제 \u001b[39;00m\n\u001b[0;32m      <a href='vscode-notebook-cell:/c%3A/Repository/StudyPython_Kasan/Day%201/%EC%97%B0%EC%82%B0%EC%9E%90.ipynb#ch0000035?line=1'>2</a>\u001b[0m \u001b[39mdel\u001b[39;00m(arr2)\n\u001b[1;32m----> <a href='vscode-notebook-cell:/c%3A/Repository/StudyPython_Kasan/Day%201/%EC%97%B0%EC%82%B0%EC%9E%90.ipynb#ch0000035?line=2'>3</a>\u001b[0m \u001b[39mprint\u001b[39m(arr2)\n",
      "\u001b[1;31mNameError\u001b[0m: name 'arr2' is not defined"
     ]
    }
   ],
   "source": [
    "#삭제 \n",
    "del(arr2)\n",
    "print(arr2)"
   ]
  },
  {
   "cell_type": "code",
   "execution_count": 100,
   "metadata": {},
   "outputs": [
    {
     "name": "stdout",
     "output_type": "stream",
     "text": [
      "[1, 2, '3', 4, 5]\n"
     ]
    }
   ],
   "source": [
    "#리스트 변수 추가\n",
    "print(arr)\n",
    "arr.append(9)  #append() : 마지막에 추가 "
   ]
  },
  {
   "cell_type": "code",
   "execution_count": 104,
   "metadata": {},
   "outputs": [
    {
     "name": "stdout",
     "output_type": "stream",
     "text": [
      "[1, 2, '3', 25, 4, 5]\n"
     ]
    }
   ],
   "source": [
    "#insert() \n",
    "#배열 자체를 배열 뒤에 붙인다. \n",
    "arr.insert(3,25)\n",
    "print(arr)"
   ]
  },
  {
   "cell_type": "code",
   "execution_count": 105,
   "metadata": {},
   "outputs": [
    {
     "name": "stdout",
     "output_type": "stream",
     "text": [
      "[1, 2, '3', 25, 4, 5, 'H', 1, 2, 3, 4, 5]\n"
     ]
    }
   ],
   "source": [
    "#리스트에 리스트 추가\n",
    "#extend()\n",
    "\n",
    "arr.extend(q)\n",
    "print(arr)"
   ]
  },
  {
   "cell_type": "code",
   "execution_count": 119,
   "metadata": {},
   "outputs": [
    {
     "name": "stdout",
     "output_type": "stream",
     "text": [
      "[8, 2, 9, 3, 4, 5, 1, 10]\n",
      "[1, 2, 3, 4, 5, 8, 9, 10]\n",
      "[10, 9, 8, 5, 4, 3, 2, 1]\n"
     ]
    }
   ],
   "source": [
    "# 정렬\n",
    "list1 = [8,2,9,3,4,5,1,10]\n",
    "print(list1)\n",
    "\n",
    "list1.sort() #오름차순 정렬\n",
    "print(list1)  \n",
    "\n",
    "list1.reverse() #내림차순 정렬\n",
    "print(list1)"
   ]
  },
  {
   "cell_type": "code",
   "execution_count": 120,
   "metadata": {},
   "outputs": [
    {
     "name": "stdout",
     "output_type": "stream",
     "text": [
      "[10, 9, 8, 5, 4, 3, 2, 1]\n",
      "1\n",
      "[10, 9, 8, 5, 4, 3, 2]\n"
     ]
    }
   ],
   "source": [
    "#스택 형태 함수\n",
    "print(list1)\n",
    "print(list1.pop())  #전체 중 마지막 값을 제거\n",
    "print(list1)"
   ]
  }
 ],
 "metadata": {
  "interpreter": {
   "hash": "26de051ba29f2982a8de78e945f0abaf191376122a1563185a90213a26c5da77"
  },
  "kernelspec": {
   "display_name": "Python 3.10.4 64-bit",
   "language": "python",
   "name": "python3"
  },
  "language_info": {
   "codemirror_mode": {
    "name": "ipython",
    "version": 3
   },
   "file_extension": ".py",
   "mimetype": "text/x-python",
   "name": "python",
   "nbconvert_exporter": "python",
   "pygments_lexer": "ipython3",
   "version": "3.10.4"
  },
  "orig_nbformat": 4
 },
 "nbformat": 4,
 "nbformat_minor": 2
}
