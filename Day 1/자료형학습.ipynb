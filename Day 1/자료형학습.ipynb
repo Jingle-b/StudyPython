{
 "cells": [
  {
   "cell_type": "markdown",
   "metadata": {},
   "source": [
    "## 자료형학습\n",
    "### [1] 기본형 \n",
    "1. None 형 (특수형)\n",
    ": 값이 무엇인지 알 수 없다."
   ]
  },
  {
   "cell_type": "code",
   "execution_count": 1,
   "metadata": {},
   "outputs": [
    {
     "name": "stdout",
     "output_type": "stream",
     "text": [
      "False\n"
     ]
    }
   ],
   "source": [
    "#None (특수형)\n",
    "\n",
    "#다른 언어에서의 Null = 파이썬에서의 None\n",
    "#0도 아니고 아무것도 아닌데 컴퓨터 기준으로 표현한 것 : 아무것도아님을 의미\n",
    "print(0 == None)"
   ]
  },
  {
   "cell_type": "markdown",
   "metadata": {},
   "source": [
    "2. 숫자형 : 가장 많이 쓰이는 자료형"
   ]
  },
  {
   "cell_type": "code",
   "execution_count": null,
   "metadata": {},
   "outputs": [
    {
     "data": {
      "text/plain": [
       "3.16"
      ]
     },
     "metadata": {},
     "output_type": "display_data"
    }
   ],
   "source": [
    "#숫자형\n",
    "int_val = 10\n",
    "int_val  #print 안써서 맨 마지막에 호출한 변수의 값만 출력됨\n",
    "\n",
    "#실수형\n",
    "float_val = 3.16\n",
    "float_val"
   ]
  },
  {
   "cell_type": "code",
   "execution_count": 12,
   "metadata": {},
   "outputs": [
    {
     "name": "stdout",
     "output_type": "stream",
     "text": [
      "10\n",
      "3.16\n"
     ]
    }
   ],
   "source": [
    "#숫자형\n",
    "int_val = 10\n",
    "print(int_val)   #print 써서 둘 다 출력가능\n",
    "\n",
    "#실수형\n",
    "float_val = 3.16\n",
    "print(float_val)"
   ]
  },
  {
   "cell_type": "code",
   "execution_count": 18,
   "metadata": {},
   "outputs": [
    {
     "name": "stdout",
     "output_type": "stream",
     "text": [
      "15\n",
      "42\n",
      "255\n"
     ]
    }
   ],
   "source": [
    "#이진수 (0과 1만 있음)\n",
    "\n",
    "bin(10) \n",
    "#0b1010 식 표현이 된다 . 0b = 이진수~ 1010 =  이진수 표현으로 1010이다. \n",
    "#8진수는 0o (octo-)  #16진수 0xf (hexa-)\n",
    "\n",
    "bin_val = 0b1111\n",
    "\n",
    "print(bin_val) \n",
    "\n",
    "#8진수 (8진수에는 f가 없다. 0에서부터 7까지만 있음)\n",
    "oct_val = 0o52\n",
    "print(oct_val)\n",
    "\n",
    "#16진수\n",
    "hex_val = 0xff\n",
    "print(hex_val)"
   ]
  },
  {
   "cell_type": "code",
   "execution_count": 22,
   "metadata": {},
   "outputs": [
    {
     "name": "stdout",
     "output_type": "stream",
     "text": [
      "<class 'int'>\n",
      "<class 'float'>\n",
      "<class 'int'>\n"
     ]
    }
   ],
   "source": [
    "#자료형 확인하는 함수 type()\n",
    "print(type(int_val))\n",
    "print(type(float_val))\n",
    "print(type(hex_val))"
   ]
  },
  {
   "cell_type": "markdown",
   "metadata": {},
   "source": [
    "3. 문자열형 : 출력을 위해 사용\n"
   ]
  },
  {
   "cell_type": "code",
   "execution_count": 31,
   "metadata": {},
   "outputs": [
    {
     "name": "stdout",
     "output_type": "stream",
     "text": [
      "Life is short, \n",
      "You need Python. \n",
      "Hello, python\n",
      "Hello \n",
      "My name is SMG\n",
      "Bye~\n"
     ]
    },
    {
     "data": {
      "text/plain": [
       "str"
      ]
     },
     "execution_count": 31,
     "metadata": {},
     "output_type": "execute_result"
    }
   ],
   "source": [
    "#문자열형 (홑따옴표로 쓰기)\n",
    "bruce_eckel = 'Life is short, \\nYou need Python. '  #]n 탈출문자!\n",
    "print(bruce_eckel)\n",
    "\n",
    "greeting = \"Hello, python\"\n",
    "greeting\n",
    "\n",
    "print(greeting)\n",
    "\n",
    "#문장에 여러줄 쓰기(홑따옴표 쓰기)\n",
    "multi_str_val = '''Hello \n",
    "My name is SMG\n",
    "Bye~'''\n",
    "\n",
    "print(multi_str_val)\n",
    "\n",
    "type(multi_str_val)"
   ]
  },
  {
   "cell_type": "markdown",
   "metadata": {},
   "source": [
    "4. 불린형 (Boolelan 형)"
   ]
  },
  {
   "cell_type": "code",
   "execution_count": 33,
   "metadata": {},
   "outputs": [
    {
     "name": "stdout",
     "output_type": "stream",
     "text": [
      "False\n",
      "True\n"
     ]
    }
   ],
   "source": [
    "#불린형(boolean) : True / False (철자, 대소문자 명확히 맞춰야 한다.)\n",
    "#if 문에서 많이 사용된다. \n",
    "\n",
    "print(1 == 1*2)\n",
    "print(10 == 2*5)"
   ]
  },
  {
   "cell_type": "code",
   "execution_count": 41,
   "metadata": {},
   "outputs": [
    {
     "name": "stdout",
     "output_type": "stream",
     "text": [
      "True\n",
      "True\n",
      "True\n",
      "False\n",
      "True\n"
     ]
    }
   ],
   "source": [
    "bl_true = True\n",
    "bl_false = False\n",
    "\n",
    "print(bl_true is True) #type과 값이 동일하다.\n",
    "print(bl_true == True) #값이 동일하다. \n",
    "\n",
    "print(bool(1))  # non zero is True \n",
    "print(bool(0))  # 0 is Flase (only zero!)\n",
    "print(bool(2))  # non zero is True "
   ]
  },
  {
   "cell_type": "markdown",
   "metadata": {},
   "source": [
    "### [2] 복합형  (자료 구조, data structrure)\n",
    "<font color = gray> 알고리즘으로 갈 수 있는 가장 기본이 되는 내용 <br> 값 하나하나는 기본형의 자료형을 가졌지만, 크게 묶은 것. <br><br>\n",
    "<font color = default> 1. 리스트"
   ]
  },
  {
   "cell_type": "code",
   "execution_count": 56,
   "metadata": {},
   "outputs": [
    {
     "name": "stdout",
     "output_type": "stream",
     "text": [
      "[1, 2, 3, 4, 5, 6, 7, 8, 9, 10]\n",
      "<class 'list'>\n"
     ]
    }
   ],
   "source": [
    "#리스트\n",
    "#리스트의 유용성 : 데이터 입력이 용이함\n",
    "b = [1,2,3,4,5,6,7,8,9,10]\n",
    "print(b)\n",
    "\n",
    "c = [i for i in range(1,11)]  #end가 포함되지 않는 값.\n",
    "c\n",
    "\n",
    "print(type(c))  "
   ]
  },
  {
   "cell_type": "markdown",
   "metadata": {},
   "source": [
    "<font color = default>2. 튜플, 딕셔너리, 집합 (나중에!)"
   ]
  }
 ],
 "metadata": {
  "interpreter": {
   "hash": "26de051ba29f2982a8de78e945f0abaf191376122a1563185a90213a26c5da77"
  },
  "kernelspec": {
   "display_name": "Python 3.10.4 64-bit",
   "language": "python",
   "name": "python3"
  },
  "language_info": {
   "codemirror_mode": {
    "name": "ipython",
    "version": 3
   },
   "file_extension": ".py",
   "mimetype": "text/x-python",
   "name": "python",
   "nbconvert_exporter": "python",
   "pygments_lexer": "ipython3",
   "version": "3.10.4"
  },
  "orig_nbformat": 4
 },
 "nbformat": 4,
 "nbformat_minor": 2
}
