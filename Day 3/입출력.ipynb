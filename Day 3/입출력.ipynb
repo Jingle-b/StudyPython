{
 "cells": [
  {
   "cell_type": "markdown",
   "metadata": {},
   "source": [
    "## 입출력 , 파일 입출력"
   ]
  },
  {
   "cell_type": "markdown",
   "metadata": {},
   "source": [
    "1. 화면 입출력"
   ]
  },
  {
   "cell_type": "code",
   "execution_count": 12,
   "metadata": {},
   "outputs": [
    {
     "data": {
      "text/plain": [
       "7"
      ]
     },
     "execution_count": 12,
     "metadata": {},
     "output_type": "execute_result"
    }
   ],
   "source": [
    "#기본 화면 입출력\n",
    "#python에서와 달리, jupyter에서는 text box가 나타나고 입력될 때까지 무한으로 실행된다. \n",
    "\n",
    "a = input('원하는 숫자를 입력하세요 : ')\n",
    "a= int(a)    #여기에 int아닌 값 넣으면 Value Error 발생 → 예외처리 위해 validation check 해야한다. \n",
    "a + 4\n",
    "\n",
    "#a로 표기하는경우 :  5 입력하면, 문자 5로 나타남. "
   ]
  },
  {
   "cell_type": "code",
   "execution_count": 23,
   "metadata": {},
   "outputs": [
    {
     "name": "stdout",
     "output_type": "stream",
     "text": [
      "Life is short, you need Python\n",
      "108\n",
      "[0, 1, 2, 3, 4, 5, 6, 7, 8, 9, 10, 11, 12, 13, 14, 15, 16, 17, 18, 19, 20, 21, 22, 23, 24, 25, 26, 27, 28, 29, 30, 31, 32, 33, 34]\n",
      "Life is Short\n",
      "Life is Short\n",
      "Life is Short\n",
      "Life is short\n"
     ]
    }
   ],
   "source": [
    "#기본 화면 출력\n",
    "b = 'Life is short, you need Python'\n",
    "print(b)\n",
    "b = 108\n",
    "print(b)\n",
    "b = [i for i in range(0,35)]\n",
    "print(b)\n",
    "\n",
    "#따옴표 둘 다 나타나는 것은 같다. (아래와 같은 표기는 거의 사용 안함)\n",
    "print('Life' ' is' ' Short')\n",
    "print(\"Life\" \" is\" \" Short\")\n",
    "\n",
    "#더 좋은 출력을 위한 코드\n",
    "print('Life'+' is'+' Short')  #문자열 결함(concatnate) + 연산자\n",
    "\n",
    "#더더더좋은출력을위한코드\n",
    "print('Life','is','short')  #이 경우, 알아서 띄어쓰기 써준다. (파이썬에서 문장을 출력할 때 가장 많이 사용하는 방식)\n"
   ]
  },
  {
   "cell_type": "code",
   "execution_count": 26,
   "metadata": {},
   "outputs": [
    {
     "name": "stdout",
     "output_type": "stream",
     "text": [
      "1 2 3 4 "
     ]
    }
   ],
   "source": [
    "a = [1,2,3,4]\n",
    "for i in a :\n",
    "    print(i, end= ' ')"
   ]
  },
  {
   "cell_type": "code",
   "execution_count": 29,
   "metadata": {},
   "outputs": [
    {
     "name": "stdout",
     "output_type": "stream",
     "text": [
      "Hello\n",
      "Friends\n"
     ]
    }
   ],
   "source": [
    "#다중값 입력 \n",
    "\n",
    "(x,y) = input('두 개의 영어 단어를 입력하세요.').split()  #띄어쓰기 기준으로 단어를 구분\n",
    "print(x)\n",
    "print(y)"
   ]
  },
  {
   "cell_type": "code",
   "execution_count": 34,
   "metadata": {},
   "outputs": [
    {
     "name": "stdout",
     "output_type": "stream",
     "text": [
      "2\n"
     ]
    }
   ],
   "source": [
    "#다중값 입력 \n",
    "\n",
    "(x,y) = input('두 개의 정수를 입력하세요.(구분자 ,').split(',')  #쉼표 기준으로 단어를 구분\n",
    "print(int(x)*int(y))  #정수를 입력해야하는 상황이므로, int를 붙여줘야만 의도한 대로 입력된 값을 연산할 수 있다."
   ]
  },
  {
   "cell_type": "code",
   "execution_count": 47,
   "metadata": {},
   "outputs": [
    {
     "name": "stdout",
     "output_type": "stream",
     "text": [
      "hello\n",
      "world\n",
      "\tHi~\"Wow\"\t  \\ \f Blaw Bla \n",
      " \u0007\n"
     ]
    }
   ],
   "source": [
    "#Escape Character(탈출문자 = 특수문자)\n",
    "test_str = \"hello\\nworld\\n\\tHi~!\\b\\\"Wow\\\"\\t  \\\\ \\f Blaw Bla \\n \\a\"\n",
    "print(test_str)\n",
    "\n",
    "#다른 파일 내에서 있을 때 이러한 문자들이 익스케이프 문자임을 알아두기!! "
   ]
  },
  {
   "cell_type": "code",
   "execution_count": 60,
   "metadata": {},
   "outputs": [
    {
     "name": "stdout",
     "output_type": "stream",
     "text": [
      "저는 성명건이고,    40대 후반입니다.\n",
      "저는 성명건이고,    40대 후반입니다.\n",
      "저는 성명건이고,    40대 후반입니다.\n"
     ]
    }
   ],
   "source": [
    "#문자열 포멧팅\n",
    "#옛날 방법\n",
    "print('%s는 %s이고, %5d대 %s입니다.'%('저','성명건',40,'후반'))  #%5d : 자리를 다섯자리로\n",
    "\n",
    "#새로운 방법 1\n",
    "print('{0}는 {1}이고, {2:>5}대 {3}입니다.'.format('저','성명건',40,'후반'))\n",
    "\n",
    "#python 3.6부터 변경된 방법 [추천!]\n",
    "print(f'{\"저\"}는 {\"성명건\"}이고, {40:>5}대 {\"후반\"}입니다.')"
   ]
  },
  {
   "cell_type": "markdown",
   "metadata": {},
   "source": [
    "2. 파일 입출력"
   ]
  },
  {
   "cell_type": "code",
   "execution_count": 68,
   "metadata": {},
   "outputs": [],
   "source": [
    "#파일 출력\n",
    "file = open('sample.txt', mode='a',encoding = 'utf-8') #w=write(원래 파일 내용을 다 지우고 새로쓴다.) #파일 열기  #utf-8 : 모든 언어 사용 가능 \n",
    "#r과 w를 함께 쓰지 않는다. #a(append):sample.text 파일에 이미 내용이 있는 경우.\n",
    "file.write('안녕하세요. 파이썬 학습중입니다.\\n')\n",
    "file.write('두 번째 줄 시작입니다.\\n')\n",
    "file.write('세 번째 문장입니다. \\n')\n",
    "file.close() #파일 닫기 \n",
    "\n",
    "#파일의 경우, 열게된다면 무조건 닫아야 한다. \n",
    "#생성된 파일 열면 VS에서 한글이 깨져서, encoding 추가해야했음(인코딩 필수!!)"
   ]
  },
  {
   "cell_type": "code",
   "execution_count": 73,
   "metadata": {},
   "outputs": [
    {
     "name": "stdout",
     "output_type": "stream",
     "text": [
      "안녕하세요. 파이썬 학습중입니다.\n",
      "두 번째 줄 시작입니다.안녕하세요. 파이썬 학습중입니다.\n",
      "두 번째 줄 시작입니다.\n",
      "세 번째 문장입니다. \n",
      "안녕하세요. 파이썬 학습중입니다.\n",
      "두 번째 줄 시작입니다.\n",
      "세 번째 문장입니다. \n",
      "\n"
     ]
    }
   ],
   "source": [
    "#파일 입력\n",
    "fr = open('sample.txt', mode = 'r', encoding = 'utf-8')\n",
    "text = fr.read()   #한 번에 다 읽는 것 (but, 파일 안에 양이 너무 많으면 문제 발생 위험) \n",
    "fr.close()\n",
    "\n",
    "print(text) "
   ]
  },
  {
   "cell_type": "code",
   "execution_count": 76,
   "metadata": {},
   "outputs": [
    {
     "name": "stdout",
     "output_type": "stream",
     "text": [
      "안녕하세요. 파이썬 학습중입니다.\n",
      "두 번째 줄 시작입니다.안녕하세요. 파이썬 학습중입니다.\n",
      "두 번째 줄 시작입니다.\n",
      "세 번째 문장입니다. \n",
      "안녕하세요. 파이썬 학습중입니다.\n",
      "두 번째 줄 시작입니다.\n",
      "세 번째 문장입니다. \n"
     ]
    }
   ],
   "source": [
    "#파일 읽기 한줄씩(가장 많이 쓰는 방식 : 무한루프)\n",
    "fr = open('sample.txt', mode = 'r', encoding= 'utf-8')\n",
    "while True:\n",
    "    line = fr.readline()  #한 줄씩 읽기\n",
    "    if not line : break  #표현!\n",
    "    print(line, end = '') #end : 두 번 내려가서 없애기 위함.\n",
    "fr.close()"
   ]
  },
  {
   "cell_type": "markdown",
   "metadata": {},
   "source": [
    "3. csv 파일 읽기"
   ]
  },
  {
   "cell_type": "code",
   "execution_count": null,
   "metadata": {},
   "outputs": [],
   "source": [
    "import csv  #csv 모듈 추가\n",
    "\n",
    "file_name = 'seoul_bus.csv'\n",
    "dir_name = 'C:/Repository/StudyPython_Kasan/Day 3/'  #절대경로 (그냥 파일 주소를 복붙하는게 아니라, 끝부분에 닫기.)(윈도우처럼 slash 사용가능)\n",
    "\n",
    "f = open(f'{dir_name}{file_name}', mode = 'r', encoding= 'utf-8')\n",
    "reader = csv.reader(f, delimiter= ',')   #delimiter : 구분자 : 여기 파일은 쉼표가 구분자! \n",
    "next(reader) #제목 줄 skip :: 첫번째 줄이 제목이라, 넘어가기 위해 사용 (제목 없는 csv 파일은 사용 X)\n",
    "\n",
    "for line in reader :\n",
    "    print(line)\n",
    "\n",
    "f.close()"
   ]
  }
 ],
 "metadata": {
  "interpreter": {
   "hash": "26de051ba29f2982a8de78e945f0abaf191376122a1563185a90213a26c5da77"
  },
  "kernelspec": {
   "display_name": "Python 3.10.4 64-bit",
   "language": "python",
   "name": "python3"
  },
  "language_info": {
   "codemirror_mode": {
    "name": "ipython",
    "version": 3
   },
   "file_extension": ".py",
   "mimetype": "text/x-python",
   "name": "python",
   "nbconvert_exporter": "python",
   "pygments_lexer": "ipython3",
   "version": "3.10.4"
  },
  "orig_nbformat": 4
 },
 "nbformat": 4,
 "nbformat_minor": 2
}
