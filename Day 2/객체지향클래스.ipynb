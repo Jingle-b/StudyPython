{
 "cells": [
  {
   "cell_type": "markdown",
   "metadata": {},
   "source": [
    "## 객체 지향 클래스 \n",
    "1. 객체 지향 개념\n",
    "<br> - 객체 : 동사(행위 → 함수)와 명사(속성 → 속성 변수)의 조합\n",
    "<br> - 객체 지향 : 현실 세계에 있는 것과 같이, 객체로 표현하려는 것\n",
    "<br>- 클래스  : 객체를 담는 틀, 데이터를 담는 속성과 행위를 담고 있는 함수(메서드)로 구성"
   ]
  },
  {
   "cell_type": "code",
   "execution_count": 39,
   "metadata": {},
   "outputs": [],
   "source": [
    "#class\n",
    "\n",
    "class Person :\n",
    "    name = ''\n",
    "    age = 0\n",
    "\n",
    "    def __init__(self): #생성자 #특별한 함수 magic method (클래스의 객체 실체를 만들 때 사용됨.)\n",
    "        #이 함수를 클래스에 새로 선언함으로써, 파이썬에서 기존에 제공되는 함수를 사용하지 않고 생성자를 새로 만들 수 있다.\n",
    "        print('person 클래스 생성')\n",
    "        pass\n",
    "\n",
    "    def print_name(self): #매개변수X, 리턴X  #self = 자기자신 = 클래스 내 객체를 만들 때만 사용 \n",
    "        print(f'제 이름은 {self.name}입니다.')\n",
    "\n",
    "    def get_age(self): #매개변수X, 리턴O\n",
    "        return self.age"
   ]
  },
  {
   "cell_type": "code",
   "execution_count": 31,
   "metadata": {},
   "outputs": [
    {
     "name": "stdout",
     "output_type": "stream",
     "text": [
      "person 생성\n"
     ]
    }
   ],
   "source": [
    "me = Person()  #클래스로 객체를 생성함.(그 생성된 객체 = 생성자)\n",
    "#print(me)  #me는 클래스 객체이다.\n",
    "#print(type(me))"
   ]
  },
  {
   "cell_type": "code",
   "execution_count": 27,
   "metadata": {},
   "outputs": [
    {
     "name": "stdout",
     "output_type": "stream",
     "text": [
      "홍길동\n",
      "제 이름은 홍길동입니다.\n",
      "홍길동 나이는 990 세\n"
     ]
    }
   ],
   "source": [
    "me.name = '홍길동'  #명사\n",
    "print(me.name)\n",
    "me.print_name()   #동사\n",
    "\n",
    "me.age = 990  #명사\n",
    "hongs_age = me.get_age()  #동사\n",
    "print(me.name, '나이는',hongs_age,'세')"
   ]
  },
  {
   "cell_type": "code",
   "execution_count": 43,
   "metadata": {},
   "outputs": [],
   "source": [
    "#생성자 수정 클래스 person 2\n",
    "\n",
    "class Person2 :\n",
    "    name = ''\n",
    "    age = 0\n",
    "\n",
    "    def __init__(self, name, age): \n",
    "        print('person 클래스 생성')\n",
    "        self.name = name\n",
    "        self.age = age \n",
    "        pass\n",
    "\n",
    "    def __str__(self): #print를 변경해주는 magic method \n",
    "        return f'이름: {self.name}, 나이 : {self.age}'\n",
    "\n",
    "    def print_name(self): \n",
    "        print(f'제 이름은 {self.name}입니다.')\n",
    "\n",
    "    def get_age(self):\n",
    "        print(f'제 나이는 {self.age}입니다.')"
   ]
  },
  {
   "cell_type": "code",
   "execution_count": 44,
   "metadata": {},
   "outputs": [
    {
     "name": "stdout",
     "output_type": "stream",
     "text": [
      "person 클래스 생성\n",
      "제 이름은 홍길동입니다.\n",
      "제 나이는 990입니다.\n",
      "이름: 홍길동, 나이 : 990\n"
     ]
    }
   ],
   "source": [
    "you = Person2('홍길동','990')\n",
    "you.print_name()\n",
    "you.get_age()\n",
    "\n",
    "print(you)"
   ]
  }
 ],
 "metadata": {
  "interpreter": {
   "hash": "26de051ba29f2982a8de78e945f0abaf191376122a1563185a90213a26c5da77"
  },
  "kernelspec": {
   "display_name": "Python 3.10.4 64-bit",
   "language": "python",
   "name": "python3"
  },
  "language_info": {
   "codemirror_mode": {
    "name": "ipython",
    "version": 3
   },
   "file_extension": ".py",
   "mimetype": "text/x-python",
   "name": "python",
   "nbconvert_exporter": "python",
   "pygments_lexer": "ipython3",
   "version": "3.10.4"
  },
  "orig_nbformat": 4
 },
 "nbformat": 4,
 "nbformat_minor": 2
}
