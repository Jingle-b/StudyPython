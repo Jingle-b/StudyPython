{
 "cells": [
  {
   "cell_type": "markdown",
   "metadata": {},
   "source": [
    "## 함수\n",
    "- 함수를 만드는 이유 : 한 번 이상 사용해야하기 때문에, 같은 코드를 반복해서 각각 작성하지 않고도 유용히 사용하기 위함."
   ]
  },
  {
   "cell_type": "markdown",
   "metadata": {
    "vscode": {
     "languageId": "python"
    }
   },
   "source": [
    "### __1. 함수의 정의__"
   ]
  },
  {
   "cell_type": "code",
   "execution_count": 29,
   "metadata": {},
   "outputs": [
    {
     "name": "stdout",
     "output_type": "stream",
     "text": [
      "10\n"
     ]
    }
   ],
   "source": [
    "def add(x,y): #매개변수 2개만 받을 수 있는 함수\n",
    "    result = x + y  #result 초기화 안해도 됨 \n",
    "    return result  #함수의 결과로 답을 돌려줘야함(return)\n",
    "\n",
    "print(add(3,7))"
   ]
  },
  {
   "cell_type": "code",
   "execution_count": 16,
   "metadata": {},
   "outputs": [],
   "source": [
    "#더 단순하게도 가능 \n",
    "def add(x,y):\n",
    "    return x+y"
   ]
  },
  {
   "cell_type": "code",
   "execution_count": 18,
   "metadata": {},
   "outputs": [
    {
     "name": "stdout",
     "output_type": "stream",
     "text": [
      "3\n"
     ]
    }
   ],
   "source": [
    "def print_add(x,y):\n",
    "    print(x+y)  #return 없이, 스스로 출력(연산과 함께 print 기능을 함)\n",
    "\n",
    "print_add(1,2)"
   ]
  },
  {
   "cell_type": "code",
   "execution_count": 19,
   "metadata": {},
   "outputs": [
    {
     "name": "stdout",
     "output_type": "stream",
     "text": [
      "Hello, world!\n"
     ]
    }
   ],
   "source": [
    "def print_hello():  #매개변수도, return도 없음\n",
    "    print('Hello, world!')\n",
    "\n",
    "print_hello()"
   ]
  },
  {
   "cell_type": "code",
   "execution_count": 25,
   "metadata": {},
   "outputs": [],
   "source": [
    "def ret_hello():  #매개변수 없이 return만 함\n",
    "    return 'Hello'"
   ]
  },
  {
   "cell_type": "code",
   "execution_count": 28,
   "metadata": {},
   "outputs": [
    {
     "name": "stdout",
     "output_type": "stream",
     "text": [
      "Hello My Friend\n",
      "Hello 2.302585092994046 11\n"
     ]
    }
   ],
   "source": [
    "import math\n",
    "\n",
    "val = ret_hello()  #return문 있어서 가능\n",
    "print(val, 'My Friend') #print도 여러개 한 번에 print 가능하다.\n",
    "\n",
    "res = math.log(10)\n",
    "add_res = add(7,4)\n",
    "print(val, res, add_res)"
   ]
  },
  {
   "cell_type": "code",
   "execution_count": null,
   "metadata": {},
   "outputs": [
    {
     "data": {
      "text/plain": [
       "13"
      ]
     },
     "metadata": {},
     "output_type": "display_data"
    }
   ],
   "source": [
    "res = add(y=6, x=7)  #순서 달라도 매개변수 명확하게 하면 가능\n",
    "res"
   ]
  },
  {
   "cell_type": "markdown",
   "metadata": {},
   "source": [
    "[매개변수의 개수가 일정치 않은 경우] <br>\n",
    ": 함수 기준 뒤부터 default value를 기입할 수 있을 때. (뒤의 값이 비어있다면 앞의 값의 default value를 정할 수 없다)<br>\n",
    ": *args 사용해서 매개변수 사용"
   ]
  },
  {
   "cell_type": "code",
   "execution_count": 36,
   "metadata": {},
   "outputs": [
    {
     "name": "stdout",
     "output_type": "stream",
     "text": [
      "13\n",
      "1\n"
     ]
    }
   ],
   "source": [
    "#매개변수가 가변일 때 (*args 사용가능!)\n",
    "def adds(*args):\n",
    "    res = 0\n",
    "\n",
    "    for i in args:\n",
    "        res += i\n",
    "\n",
    "    return res\n",
    "\n",
    "print(adds(1,2,1,4,5))\n",
    "print(adds(1))"
   ]
  },
  {
   "cell_type": "markdown",
   "metadata": {},
   "source": [
    "[함수 결과가 여러 개인 경우]"
   ]
  },
  {
   "cell_type": "code",
   "execution_count": 40,
   "metadata": {},
   "outputs": [],
   "source": [
    "def mul_and_add(x,y):\n",
    "    res_mul = x*y\n",
    "    res_add = x+y\n",
    "    return (res_mul, res_add)  #tuple 형식으로 return\n"
   ]
  },
  {
   "cell_type": "code",
   "execution_count": 41,
   "metadata": {},
   "outputs": [
    {
     "name": "stdout",
     "output_type": "stream",
     "text": [
      "72\n",
      "17\n"
     ]
    }
   ],
   "source": [
    "(res1, res2) = mul_and_add(8,9)  #다른 변수에 할당하여 각각 사용할 수 있다.\n",
    "print(res1)\n",
    "print(res2)"
   ]
  },
  {
   "cell_type": "code",
   "execution_count": 46,
   "metadata": {},
   "outputs": [
    {
     "name": "stdout",
     "output_type": "stream",
     "text": [
      "55\n",
      "45\n",
      "3628800\n",
      "362880.0\n"
     ]
    }
   ],
   "source": [
    "def all_calc(*args):\n",
    "    res_mul = 1\n",
    "    res_add = 0\n",
    "    res_div = 1  #다 곱하고나서 마지막 수로 나눈다.\n",
    "    res_sub = 0  #다 더하고나서 마지막 수로 뺀다.\n",
    "\n",
    "    for i in args:  #반복문 활용하여 매개변수 개수가 정해지지 않아도 정상적으로 연산 가능\n",
    "        res_mul *= i \n",
    "        res_add += i\n",
    "\n",
    "    last_num = i\n",
    "    res_div =  res_mul/last_num\n",
    "    res_sub = res_add-last_num\n",
    "    return (res_add, res_sub, res_mul, res_div)\n",
    "\n",
    "\n",
    "(res1,res2,res3,res4) = all_calc(1,2,3,4,5,6,7,8,9,10)  #좌측 괄호 생략 가능 #연산값이 할당된 변수들의 자료형은 숫자형이다.(tuple 아님)\n",
    "\n",
    "print(res1)\n",
    "print(res2)\n",
    "print(res3)\n",
    "print(res4)"
   ]
  },
  {
   "cell_type": "markdown",
   "metadata": {},
   "source": [
    "#### __[정리]__ 함수의 종류\n",
    "1. 매개변수가 없고, 리턴문이 없는 경우\n",
    "2. 매개변수가 없고, 리턴문이 있는 경우\n",
    "3. 매개변수가 있고, 리턴문이 없는 경우\n",
    "4. 매개변수가 있고, 리턴문이 있는 경우\n",
    "5. 매개변수의 개수가 가변인 경우 \n",
    "6. 리턴되는 결과의 개수가 한 건 이상인 경우  "
   ]
  },
  {
   "cell_type": "markdown",
   "metadata": {},
   "source": [
    "### __2. 함수와 변수의 라이프스코프__"
   ]
  },
  {
   "cell_type": "code",
   "execution_count": 57,
   "metadata": {},
   "outputs": [
    {
     "name": "stdout",
     "output_type": "stream",
     "text": [
      "2\n"
     ]
    }
   ],
   "source": [
    "a = 1  #변수 a [위치기준 = 전역변수]\n",
    "\n",
    "def vartest(a):  #매개변수 a [위치기준 = 지역변수] : 함수를 빠져 나가면 a의 생명이 끝난다. \n",
    "    a += 1       \n",
    "    return a\n",
    "\n",
    "a = vartest(a)  #매개변수 a 자리에 변수 a의 값을 넣어 함수의 값을 도출하고, 다시 a에 함수결과값을 할당한다. \n",
    "print(a)  #계산되어 할당된 값 a 표현"
   ]
  },
  {
   "cell_type": "markdown",
   "metadata": {},
   "source": [
    "매개변수 vs 변수 : 함수에서 사용하느냐 안하는지로 구분 <br>\n",
    "지역변수 vs 전역변수 : 어느 영역에서 의미있는지로 구분"
   ]
  },
  {
   "cell_type": "code",
   "execution_count": 59,
   "metadata": {},
   "outputs": [
    {
     "name": "stdout",
     "output_type": "stream",
     "text": [
      "2\n"
     ]
    }
   ],
   "source": [
    "b = 1  \n",
    "\n",
    "def vartestb():\n",
    "    global b   #global b로 선언해서(전역변수 b를 함수 내에 사용하기위해 선언), return하지 않아도 된다. \n",
    "    b += 1       \n",
    "\n",
    "vartestb()  \n",
    "print(b) \n",
    "\n",
    "#하지만 전역변수를 매개변수로 사용하려 하는 것이 좋은 방법은 아님 "
   ]
  }
 ],
 "metadata": {
  "interpreter": {
   "hash": "26de051ba29f2982a8de78e945f0abaf191376122a1563185a90213a26c5da77"
  },
  "kernelspec": {
   "display_name": "Python 3.10.4 64-bit",
   "language": "python",
   "name": "python3"
  },
  "language_info": {
   "codemirror_mode": {
    "name": "ipython",
    "version": 3
   },
   "file_extension": ".py",
   "mimetype": "text/x-python",
   "name": "python",
   "nbconvert_exporter": "python",
   "pygments_lexer": "ipython3",
   "version": "3.10.4"
  },
  "orig_nbformat": 4
 },
 "nbformat": 4,
 "nbformat_minor": 2
}
