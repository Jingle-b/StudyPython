{
 "cells": [
  {
   "cell_type": "markdown",
   "metadata": {},
   "source": [
    "## 흐름제어"
   ]
  },
  {
   "cell_type": "markdown",
   "metadata": {},
   "source": [
    "1. if 문\n",
    "- 들여쓰기(탭, 공백), 구문 내용 없을 때 pass로 처리"
   ]
  },
  {
   "cell_type": "code",
   "execution_count": 9,
   "metadata": {},
   "outputs": [
    {
     "name": "stdout",
     "output_type": "stream",
     "text": [
      "대기합니다.\n"
     ]
    }
   ],
   "source": [
    "name = '길동'  #name을 변경하면 결과가 달라진다. \n",
    "if name == '명건':                      #참인 경우\n",
    "    print('진료실로 들어갑니다.')\n",
    "else :                                 #참이 아닌 경우\n",
    "    print('대기합니다.')"
   ]
  },
  {
   "cell_type": "code",
   "execution_count": 11,
   "metadata": {},
   "outputs": [
    {
     "name": "stdout",
     "output_type": "stream",
     "text": [
      "대기합니다.\n"
     ]
    }
   ],
   "source": [
    "name = '용길'  #name을 변경하면 결과가 달라진다. \n",
    "if name == '명건':                      #참인 경우\n",
    "    print(f'{name}진료실로 들어갑니다.')\n",
    "elif name == '길동' :\n",
    "    print(f'{name}이도 진료실로 들어갑니다.')\n",
    "else :                                 #참이 아닌 경우\n",
    "    print('대기합니다.')"
   ]
  },
  {
   "cell_type": "code",
   "execution_count": 15,
   "metadata": {},
   "outputs": [
    {
     "name": "stdout",
     "output_type": "stream",
     "text": [
      "대기합니다.\n"
     ]
    }
   ],
   "source": [
    "name = '순이'\n",
    "\n",
    "if name == '명건' or name == '용길':  #이 상태에서 and를 입력하면 오류(동시 충족 불가)\n",
    "    print('진료실로 갑니다.')\n",
    "elif name == '길동':\n",
    "    print('주사실로 갑니다.')\n",
    "else :\n",
    "    print('대기합니다.')"
   ]
  },
  {
   "cell_type": "code",
   "execution_count": 17,
   "metadata": {},
   "outputs": [
    {
     "name": "stdout",
     "output_type": "stream",
     "text": [
      "대기합니다.\n"
     ]
    }
   ],
   "source": [
    "name = '명건'\n",
    "gender = '여자'\n",
    "\n",
    "if name == '명건' and gender == '남자': \n",
    "    print('진료실로 갑니다.')\n",
    "elif name == '길동':\n",
    "    print('주사실로 갑니다.')\n",
    "else :\n",
    "    print('대기합니다.')"
   ]
  },
  {
   "cell_type": "code",
   "execution_count": 21,
   "metadata": {},
   "outputs": [
    {
     "name": "stdout",
     "output_type": "stream",
     "text": [
      "진료실로 갑니다.\n"
     ]
    }
   ],
   "source": [
    "#다중 if 문으로도 표현 가능\n",
    "name = '명건'\n",
    "gender = '남자'\n",
    "\n",
    "if name == '명건':  \n",
    "    if gender == '남자':\n",
    "        print('진료실로 갑니다.')\n",
    "    else :\n",
    "        print('기다리세요.')\n",
    "elif name == '길동':\n",
    "    print('주사실로 갑니다.')\n",
    "else :\n",
    "    print('대기합니다.')"
   ]
  },
  {
   "cell_type": "code",
   "execution_count": null,
   "metadata": {},
   "outputs": [
    {
     "name": "stdout",
     "output_type": "stream",
     "text": [
      "있습니다.\n"
     ]
    }
   ],
   "source": [
    "arr = [1,3,5,7,9]  #list, tuple, str 다 된다.\n",
    "x = 3\n",
    "\n",
    "if (x in arr):\n",
    "    print('있습니다.')\n",
    "else : \n",
    "    print('없습니다.')"
   ]
  },
  {
   "cell_type": "markdown",
   "metadata": {},
   "source": [
    "2. for 문 (프로그래밍 흐름 제어에서 가장 중요!)\n",
    "- 프로그래밍의 자동화, 효율화와 가장 부합하는 흐름제어문\n",
    "- 리스트, 튜플 등을 이용하여 활용"
   ]
  },
  {
   "cell_type": "code",
   "execution_count": 30,
   "metadata": {},
   "outputs": [
    {
     "name": "stdout",
     "output_type": "stream",
     "text": [
      "1.0\n",
      "2.0\n",
      "3.0\n",
      "4.0\n",
      "5.0\n",
      "6.0\n",
      "7.0\n",
      "8.0\n",
      "9.0\n",
      "10.0\n"
     ]
    }
   ],
   "source": [
    "#for문도 들여쓰기 잘 맞춰야 한다.\n",
    "arr = [1,2,3,4,5,6,7,8,9,10]\n",
    "\n",
    "for i in arr:\n",
    "    print(f'{i:0.1f}')  #소수점 첫째자리까지 값을 출력"
   ]
  },
  {
   "cell_type": "code",
   "execution_count": 34,
   "metadata": {},
   "outputs": [
    {
     "name": "stdout",
     "output_type": "stream",
     "text": [
      "55\n"
     ]
    }
   ],
   "source": [
    "arr = [1,2,3,4,5,6,7,8,9,10]\n",
    "sum = 0\n",
    "\n",
    "for i in arr:\n",
    "   sum += i #sum = sum + i와 같은 의미\n",
    "\n",
    "print(sum)"
   ]
  },
  {
   "cell_type": "code",
   "execution_count": 40,
   "metadata": {},
   "outputs": [
    {
     "name": "stdout",
     "output_type": "stream",
     "text": [
      "Me\n",
      "My\n",
      "Friend\n",
      "Jane\n",
      "Me        \n",
      "My        \n",
      "Friend    \n",
      "Jane      \n",
      "        Me\n",
      "        My\n",
      "    Friend\n",
      "      Jane\n",
      "    Me\n",
      "    My\n",
      "Friend\n",
      "  Jane\n",
      " Me\n",
      " My\n",
      "Friend\n",
      "Jane\n"
     ]
    }
   ],
   "source": [
    "arr2 = ('Me', 'My','Friend', 'Jane')\n",
    "\n",
    "for j in arr2:\n",
    "    print(j)\n",
    "\n",
    "for j in arr2:\n",
    "    print(f'{j:<10}')  #차이 없어보임(하지만 열자리 됨.)\n",
    "\n",
    "for j in arr2:\n",
    "    print(f'{j:>10}')  #열자리로 만들고(이걸로 길이 조절 가능), 오른쪽으로 미룸\n",
    "\n",
    "for j in arr2:\n",
    "    print(f'{j:>6}')  #열자리로 만들고, 오른쪽으로 미룸 \n",
    "    \n",
    "#friend가 가장 긴 글자기 때문에, 이걸 안넘어가면 이상한 결과 나옴(안이쁨)\n",
    "for j in arr2:\n",
    "    print(f'{j:>3}')"
   ]
  },
  {
   "cell_type": "code",
   "execution_count": 55,
   "metadata": {},
   "outputs": [
    {
     "name": "stdout",
     "output_type": "stream",
     "text": [
      "[1, 3, 5, 7, 9, 11, 13, 15, 17, 19]\n",
      "1번째 수는 1입니다.\n",
      "2번째 수는 3입니다.\n",
      "3번째 수는 5입니다.\n",
      "4번째 수는 7입니다.\n",
      "5번째 수는 9입니다.\n",
      "6번째 수는 11입니다.\n",
      "7번째 수는 13입니다.\n",
      "8번째 수는 15입니다.\n",
      "9번째 수는 17입니다.\n",
      "10번째 수는 19입니다.\n"
     ]
    }
   ],
   "source": [
    "vals = [i for i in range(1,20,2)]  #1부터 20바로 전까지 2씩 증가\n",
    "print(vals)\n",
    "\n",
    "num = 0\n",
    "for item in vals:  #for는 pass 사용 X  #지역변수 : item\n",
    "    num += 1\n",
    "    print(f'{num}번째 수는 {item}입니다.')"
   ]
  },
  {
   "cell_type": "code",
   "execution_count": 61,
   "metadata": {},
   "outputs": [
    {
     "name": "stdout",
     "output_type": "stream",
     "text": [
      "[1, 2, 3, 4, 5, 6, 7, 8, 9, 10, 11, 12, 13, 14, 15, 16, 17, 18, 19, 20]\n",
      "1번째 수는 1입니다.\n",
      "2번째 수는 3입니다.\n",
      "3번째 수는 5입니다.\n",
      "4번째 수는 7입니다.\n",
      "5번째 수는 9입니다.\n",
      "6번째 수는 11입니다.\n",
      "7번째 수는 13입니다.\n",
      "8번째 수는 15입니다.\n",
      "9번째 수는 17입니다.\n",
      "10번째 수는 19입니다.\n"
     ]
    }
   ],
   "source": [
    "vals2 = [i for i in range(1,21)]\n",
    "print(vals2)\n",
    "\n",
    "num = 0\n",
    "for item in vals2:\n",
    "    if item % 2 == 0: continue   #if문 밑에 한 줄의 명령만 있기 때문에 한 문장으로 표현 가능(여러 줄의 명령이면 불가능)\n",
    "    num += 1\n",
    "    print(f'{num}번째 수는 {item}입니다.')"
   ]
  },
  {
   "cell_type": "code",
   "execution_count": 65,
   "metadata": {},
   "outputs": [
    {
     "name": "stdout",
     "output_type": "stream",
     "text": [
      "Hello World\n"
     ]
    }
   ],
   "source": [
    "#연속적인 문장으로 표현 가능\n",
    "print('Hello', end = ' ')\n",
    "print('World')"
   ]
  },
  {
   "cell_type": "code",
   "execution_count": 72,
   "metadata": {},
   "outputs": [
    {
     "name": "stdout",
     "output_type": "stream",
     "text": [
      "2*1= 2,2*2= 4,2*3= 6,2*4= 8,2*5=10,2*6=12,2*7=14,2*8=16,2*9=18,\n",
      "3*1= 3,3*2= 6,3*3= 9,3*4=12,3*5=15,3*6=18,3*7=21,3*8=24,3*9=27,"
     ]
    }
   ],
   "source": [
    "#구구단[2단]\n",
    "for i in range(1,10):\n",
    "    print(f'2*{i}={2 *i:>2}', end=',')   #숫자 정렬까지\n",
    "\n",
    "print()\n",
    "#구구단[3단]\n",
    "for i in range(1,10):\n",
    "    print(f'3*{i}={3 *i:>2}', end=',')\n",
    "\n",
    "#단순 반복만 하는 코드를 길게 작성해야 9단까지 가능해지는 문제 >> 2중 for 문으로 해결  "
   ]
  },
  {
   "cell_type": "code",
   "execution_count": 85,
   "metadata": {},
   "outputs": [
    {
     "name": "stdout",
     "output_type": "stream",
     "text": [
      "구구단\n",
      "2단 시작-----------------------------------------------------------------------------\n",
      "2*1 = 2 2*2 = 4 2*3 = 6 2*4 = 8 2*5 = 10 2*6 = 12 2*7 = 14 2*8 = 16 2*9 = 18 \n",
      "3단 시작-----------------------------------------------------------------------------\n",
      "3*1 = 3 3*2 = 6 3*3 = 9 3*4 = 12 3*5 = 15 3*6 = 18 3*7 = 21 3*8 = 24 3*9 = 27 \n",
      "4단 시작-----------------------------------------------------------------------------\n",
      "4*1 = 4 4*2 = 8 4*3 = 12 4*4 = 16 4*5 = 20 4*6 = 24 4*7 = 28 4*8 = 32 4*9 = 36 \n",
      "5단 시작-----------------------------------------------------------------------------\n",
      "5*1 = 5 5*2 = 10 5*3 = 15 5*4 = 20 5*5 = 25 5*6 = 30 5*7 = 35 5*8 = 40 5*9 = 45 \n",
      "6단 시작-----------------------------------------------------------------------------\n",
      "6*1 = 6 6*2 = 12 6*3 = 18 6*4 = 24 6*5 = 30 6*6 = 36 6*7 = 42 6*8 = 48 6*9 = 54 \n",
      "7단 시작-----------------------------------------------------------------------------\n",
      "7*1 = 7 7*2 = 14 7*3 = 21 7*4 = 28 7*5 = 35 7*6 = 42 7*7 = 49 7*8 = 56 7*9 = 63 \n",
      "8단 시작-----------------------------------------------------------------------------\n",
      "8*1 = 8 8*2 = 16 8*3 = 24 8*4 = 32 8*5 = 40 8*6 = 48 8*7 = 56 8*8 = 64 8*9 = 72 \n",
      "9단 시작-----------------------------------------------------------------------------\n",
      "9*1 = 9 9*2 = 18 9*3 = 27 9*4 = 36 9*5 = 45 9*6 = 54 9*7 = 63 9*8 = 72 9*9 = 81 \n"
     ]
    }
   ],
   "source": [
    "#2중 for문의 구구단 \n",
    "print('구구단')\n",
    "for x in range(2,10):\n",
    "    print(f'{x}단 시작-----------------------------------------------------------------------------')\n",
    "    for y in range(1,10):\n",
    "        print(f'{x}*{y} = {x*y}', end = ' ')\n",
    "    print()"
   ]
  },
  {
   "cell_type": "markdown",
   "metadata": {},
   "source": [
    "3. While 문 (for 문으로 대체 가능)\n",
    "- for문과 달리, i 값 없음\n",
    "- 의도치 않은 무한루프 발생할 수 있으므로 주의"
   ]
  },
  {
   "cell_type": "code",
   "execution_count": 5,
   "metadata": {},
   "outputs": [
    {
     "name": "stdout",
     "output_type": "stream",
     "text": [
      "나무를 1번 찍었습니다.\n",
      "나무를 2번 찍었습니다.\n",
      "나무를 3번 찍었습니다.\n",
      "나무를 4번 찍었습니다.\n",
      "나무를 5번 찍었습니다.\n",
      "나무를 6번 찍었습니다.\n",
      "나무를 7번 찍었습니다.\n",
      "나무를 8번 찍었습니다.\n",
      "나무를 9번 찍었습니다.\n",
      "나무를 10번 찍었습니다.\n",
      "나무가 넘어 갔습니다.\n"
     ]
    }
   ],
   "source": [
    "#While 조건문\n",
    "hit = 0\n",
    "\n",
    "while hit < 100:   #[무한 루프] : while문은 pass 사용 가능하지만(오류없지만), 조건을 만족할리 없기 때문에, 무한으로 진행된다. \n",
    "    hit += 1\n",
    "    print(f'나무를 {hit}번 찍었습니다.')\n",
    "    if hit == 10:\n",
    "        print('나무가 넘어 갔습니다.')\n",
    "        break"
   ]
  },
  {
   "cell_type": "markdown",
   "metadata": {},
   "source": [
    "4. 별표 찍기"
   ]
  },
  {
   "cell_type": "code",
   "execution_count": 15,
   "metadata": {},
   "outputs": [
    {
     "name": "stdout",
     "output_type": "stream",
     "text": [
      "*****\n",
      "*****\n",
      "*****\n",
      "*****\n",
      "*****\n"
     ]
    }
   ],
   "source": [
    "#이중 for문 이용\n",
    "#1. 별표찍기 기본\n",
    "for x in range(1,6):\n",
    "    for y in range(1,6):\n",
    "        print('*', end = '')\n",
    "    print()"
   ]
  },
  {
   "cell_type": "code",
   "execution_count": 16,
   "metadata": {},
   "outputs": [
    {
     "name": "stdout",
     "output_type": "stream",
     "text": [
      "*****\n",
      "****\n",
      "***\n",
      "**\n",
      "*\n"
     ]
    }
   ],
   "source": [
    "#2. 별표찍기 역직각삼각형\n",
    "for x in range(1,6):\n",
    "    for y in range(x,6):\n",
    "        print('*', end = '')\n",
    "    print()"
   ]
  },
  {
   "cell_type": "code",
   "execution_count": 14,
   "metadata": {},
   "outputs": [
    {
     "name": "stdout",
     "output_type": "stream",
     "text": [
      "*\n",
      "**\n",
      "***\n",
      "****\n",
      "*****\n"
     ]
    }
   ],
   "source": [
    "#3. 별표찍기 직각 삼각형\n",
    "for x in range(1,6):\n",
    "    for y in range(1,x+1):\n",
    "        print('*', end = '')\n",
    "    print()"
   ]
  },
  {
   "cell_type": "code",
   "execution_count": 24,
   "metadata": {},
   "outputs": [
    {
     "name": "stdout",
     "output_type": "stream",
     "text": [
      "     *\n",
      "    ***\n",
      "   *****\n",
      "  *******\n",
      " *********\n"
     ]
    }
   ],
   "source": [
    "#4. 별표찍기 피라미드\n",
    "for x in range(1,6): \n",
    "    for y in range(x,6):\n",
    "        print(' ', end = '')\n",
    "    for y in range(1,2*x):\n",
    "        print('*', end = '')\n",
    "    print()"
   ]
  }
 ],
 "metadata": {
  "interpreter": {
   "hash": "26de051ba29f2982a8de78e945f0abaf191376122a1563185a90213a26c5da77"
  },
  "kernelspec": {
   "display_name": "Python 3.10.4 64-bit",
   "language": "python",
   "name": "python3"
  },
  "language_info": {
   "codemirror_mode": {
    "name": "ipython",
    "version": 3
   },
   "file_extension": ".py",
   "mimetype": "text/x-python",
   "name": "python",
   "nbconvert_exporter": "python",
   "pygments_lexer": "ipython3",
   "version": "3.10.4"
  },
  "orig_nbformat": 4
 },
 "nbformat": 4,
 "nbformat_minor": 2
}
